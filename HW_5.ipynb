{
 "cells": [
  {
   "attachments": {},
   "cell_type": "markdown",
   "metadata": {},
   "source": [
    "**1. Когда используется критерий Стьюдента, а когда Z –критерий?**"
   ]
  },
  {
   "attachments": {},
   "cell_type": "markdown",
   "metadata": {},
   "source": [
    "Когда сигма генеральной совокупности неизвестна, применяется Стьюдента. В противном случае используется Z-критерий"
   ]
  },
  {
   "attachments": {},
   "cell_type": "markdown",
   "metadata": {},
   "source": [
    "\n",
    "\n",
    "\n",
    "\n",
    "**2. Проведите тест гипотезы. Утверждается, что шарики для подшипников, изготовленные автоматическим станком, имеют средний диаметр 17 мм. Используя односторонний критерий с α=0,05, проверить эту гипотезу, если в выборке из n=100 шариков средний диаметр\n",
    "оказался равным 17.5 мм, а дисперсия известна и равна 4 кв. мм.**"
   ]
  },
  {
   "attachments": {},
   "cell_type": "markdown",
   "metadata": {},
   "source": [
    "Сигма генеральной совокупности известна, используем Z-критерий.\n",
    "\n",
    "SE = 𝞼/√n z = (x – μ) / (σ / √n)"
   ]
  },
  {
   "cell_type": "code",
   "execution_count": 1,
   "metadata": {},
   "outputs": [
    {
     "name": "stdout",
     "output_type": "stream",
     "text": [
      "2.5\n"
     ]
    }
   ],
   "source": [
    "sigma = 2\n",
    "n = 100\n",
    "x = 17.5\n",
    "m = 17\n",
    "Z = (x - m) / (sigma / pow(n, 0.5))\n",
    "\n",
    "print(Z)"
   ]
  },
  {
   "attachments": {},
   "cell_type": "markdown",
   "metadata": {},
   "source": [
    "Z табличное = 1,645\n",
    "\n",
    "Z наблюдаемое = 2,5\n",
    "\n",
    "Поскольку Z наблюдаемое > Z табличное, то верна первая гипотеза.  Шарики для подшипников из выборки взяты не из генеральной совокупности (т.е. не были изготовлены именно на том станке, о котором говорится)"
   ]
  },
  {
   "attachments": {},
   "cell_type": "markdown",
   "metadata": {},
   "source": [
    "**3. Проведите тест гипотезы. Продавец утверждает, что средний вес пачки печенья составляет 200 г.Из партии извлечена выборка из 10 пачек. Вес каждой пачки составляет:**\n",
    "\n",
    "**202, 203, 199, 197, 195, 201, 200, 204, 194, 190.**\n",
    "\n",
    "**Известно, что их веса распределены нормально. Верно ли утверждение продавца, если учитывать, что доверительная вероятность равна 99%? (Провести двусторонний тест.)**"
   ]
  },
  {
   "attachments": {},
   "cell_type": "markdown",
   "metadata": {},
   "source": [
    "Сигма генеральной совокупности неизвестна, используем критерий Стьюдента. t табличное для 9 степеней свободы и вероятности 0,995 - 3,25\n",
    "\n",
    "t_н = (X ̅ - μ)/(σ_н/√n)"
   ]
  },
  {
   "cell_type": "code",
   "execution_count": 2,
   "metadata": {},
   "outputs": [
    {
     "name": "stdout",
     "output_type": "stream",
     "text": [
      "-1.0651074037450896\n"
     ]
    }
   ],
   "source": [
    "n = 10\n",
    "masses = [202, 203, 199, 197, 195, 201, 200, 204, 194, 190]\n",
    "m_3 = 200\n",
    "average = sum(masses)/len(masses)\n",
    "sigma_n = 0\n",
    "for i in masses: \n",
    "  sigma_n += (i - average) * (i - average)\n",
    "sigma_n = pow(sigma_n / (n-1), 0.5)\n",
    "t_n = (average - m_3) / (sigma_n / pow(n, 0.5))\n",
    "\n",
    "print(t_n)"
   ]
  },
  {
   "attachments": {},
   "cell_type": "markdown",
   "metadata": {},
   "source": [
    "t табличное для 9 степеней свободы и вероятности 0,995 (двустороннее) = ±3,25\n",
    "\n",
    "t наблюдаемое = -1,0651\n",
    "\n",
    "Поскольку t наблюдаемое лежит в диапазоне (-3,23;3,25), с вероятностью 0,995 верна нулевая гипотеза. Средний вес пачки печенья составляет 200 г."
   ]
  },
  {
   "attachments": {},
   "cell_type": "markdown",
   "metadata": {},
   "source": [
    "**4. Есть ли статистически значимые различия в росте дочерей?**\n",
    "\n",
    "**Рост матерей 172, 177, 158, 170, 178,175, 164, 160, 169, 165**\n",
    "\n",
    "**Рост взрослых дочерей: 173, 175, 162, 174, 175, 168, 155, 170, 160**"
   ]
  },
  {
   "cell_type": "code",
   "execution_count": 4,
   "metadata": {},
   "outputs": [
    {
     "data": {
      "text/plain": [
       "Ttest_indResult(statistic=0.24400587215969016, pvalue=0.8101467126543231)"
      ]
     },
     "execution_count": 4,
     "metadata": {},
     "output_type": "execute_result"
    }
   ],
   "source": [
    "import numpy as np \n",
    "import scipy.stats as stats\n",
    "\n",
    "x = np.array([172, 177, 158, 170, 178, 175, 164, 160, 169, 165])\n",
    "y = np.array([173, 175, 162, 174, 175, 168, 155, 170, 160])\n",
    "stats.ttest_ind(x,y)"
   ]
  },
  {
   "attachments": {},
   "cell_type": "markdown",
   "metadata": {},
   "source": [
    "Статистически значимых различий в росте дочерей нет, так как p-value значительно больше α."
   ]
  }
 ],
 "metadata": {
  "kernelspec": {
   "display_name": "Python 3",
   "language": "python",
   "name": "python3"
  },
  "language_info": {
   "codemirror_mode": {
    "name": "ipython",
    "version": 3
   },
   "file_extension": ".py",
   "mimetype": "text/x-python",
   "name": "python",
   "nbconvert_exporter": "python",
   "pygments_lexer": "ipython3",
   "version": "3.8.2"
  },
  "orig_nbformat": 4,
  "vscode": {
   "interpreter": {
    "hash": "31f2aee4e71d21fbe5cf8b01ff0e069b9275f58929596ceb00d14d90e3e16cd6"
   }
  }
 },
 "nbformat": 4,
 "nbformat_minor": 2
}
